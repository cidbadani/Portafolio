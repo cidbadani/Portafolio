{
 "cells": [
  {
   "cell_type": "markdown",
   "id": "40e6180a-6528-4ded-9a8c-1cdbf21ab007",
   "metadata": {},
   "source": [
    "# Descubriendo un Mensaje Secreto con Python"
   ]
  },
  {
   "cell_type": "markdown",
   "id": "1a0d0485-103a-46f0-81ae-cbbe24d3ce01",
   "metadata": {},
   "source": [
    "#### Hola hola, que tal?\n",
    "\n",
    "##### En este notebook vamos a descubrir un mensaje secreto que se encuentra codificado en un archivo de texto.\n",
    "\n",
    "\n",
    "Para descodificarlo debemos saber lo siguiente:\n",
    "\n",
    "1.- Cada línea de texto contiene un número y una palabra, por ejemplo: \"6 computadores\"\n",
    "\n",
    "2.- El contenido viene sin ningún orden. \n",
    "\n",
    "3.- Los números son consecutivos y comienza en 1. \n",
    "\n",
    "La lógica a seguir:\n",
    "\n",
    "1.- Ordenar numéricamente el contenido. \n",
    "\n",
    "2.- luego ordenarlo como una piramide escalonada:\n"
   ]
  },
  {
   "cell_type": "raw",
   "id": "2d782db1-b7b7-4a24-8c70-ddcd1d7c7ecc",
   "metadata": {},
   "source": [
    "                   1 Yo\n",
    "            2 perros    3 amo\n",
    "        4 gatos    5 tu    6 computadores"
   ]
  },
  {
   "cell_type": "raw",
   "id": "f27cd7a7-819f-4cd2-ba31-d512c0834975",
   "metadata": {},
   "source": [
    "3.- Nos quedamos con el lado derecho de la pirámide, ignorando todo lo demás:\n",
    "    es decir, nos queda: \n",
    "            1 Yo\n",
    "            3 amo\n",
    "            6 computadores\n"
   ]
  },
  {
   "cell_type": "markdown",
   "id": "38bf6de3-0b4a-428a-9505-66be303c667d",
   "metadata": {},
   "source": [
    "4.- Para terminar, escribimos el mensaje decodificado.\n",
    "    en este ejemplo el mensaje secreto es \n",
    "    \n",
    "    \"Yo amo computadores\" (I love computers)\n",
    "\n",
    "## Ahora vamos a desarrollar nuestro propio decodificador ;) "
   ]
  },
  {
   "cell_type": "code",
   "execution_count": 22,
   "id": "b0364dc0-7a89-4036-899e-49b80cd2205c",
   "metadata": {},
   "outputs": [],
   "source": [
    "# Abro el archivo de texto\n",
    "\n",
    "with open('mi_archivo_spa.txt', 'r') as f:\n",
    "    # Leo todas las líneas del archivo\n",
    "    \n",
    "    lines = f.readlines()\n"
   ]
  },
  {
   "cell_type": "code",
   "execution_count": 23,
   "id": "1690f020-b337-4bb6-be19-1a0dda941f42",
   "metadata": {},
   "outputs": [],
   "source": [
    "# Para trabajar con los pares (numero, palabra) \n",
    "# creo una lista vacía para almacenar esta información.\n",
    "\n",
    "num_word_list = []"
   ]
  },
  {
   "cell_type": "code",
   "execution_count": 24,
   "id": "93e13a20-61bd-493f-bc9b-12cd50cea936",
   "metadata": {},
   "outputs": [],
   "source": [
    "# Itero sobre cada línea del archivo\n",
    "for line in lines:\n",
    "    # Separo el número y la palabra en la línea\n",
    "    num, word = line.split()\n",
    "    # Convierto el número de formato texto a un formato entero, \n",
    "    # para qué? \n",
    "    # para ordenar numéricamente.\n",
    "    num = int(num)\n",
    "    # Agrego el número y la palabra a la lista\n",
    "    num_word_list.append((num, word))"
   ]
  },
  {
   "cell_type": "code",
   "execution_count": 25,
   "id": "238fc992-a942-46e4-bf39-dfb82cef0949",
   "metadata": {},
   "outputs": [],
   "source": [
    "# Ordena la lista por el número asociado\n",
    "num_word_list.sort()\n"
   ]
  },
  {
   "cell_type": "code",
   "execution_count": 26,
   "id": "a53eab4b-10af-498c-9a88-f93cbaa46106",
   "metadata": {},
   "outputs": [
    {
     "name": "stdout",
     "output_type": "stream",
     "text": [
      "Yo\n",
      "perros\n",
      "amo\n",
      "gatos\n",
      "tu\n",
      "computadores\n"
     ]
    }
   ],
   "source": [
    "# Imprimo las palabras en orden, (No es un paso obligatorio)\n",
    "\n",
    "for num, word in num_word_list:\n",
    "    print(word)"
   ]
  },
  {
   "cell_type": "raw",
   "id": "a82987ce-03b8-432a-8d84-f6f9bf8bcd4b",
   "metadata": {},
   "source": [
    "Aquí pasa que el for se llama con el elemento tupla, \n",
    "y al iterar tan solo se imprime el elemento word de cada tupla\n",
    "\n",
    "Por otro lado, podrían usarse otros términos en vez de num, word.\n",
    "por ejemplo con \n",
    "\n",
    "for a, b in num_word_list:\n",
    "    print(b)\n",
    "\n",
    "se obtiene el mismo resultado. \n"
   ]
  },
  {
   "cell_type": "code",
   "execution_count": 27,
   "id": "fa26f72c-db0f-43af-8b5d-0a0f36b499aa",
   "metadata": {},
   "outputs": [
    {
     "name": "stdout",
     "output_type": "stream",
     "text": [
      "Yo amo computadores\n"
     ]
    }
   ],
   "source": [
    "# ya que hemos ordenado las tuplas, el paso siguiente y final es descubrir el mensaje oculto. \n",
    "\n",
    "nivel = 1\n",
    "linea_salida = []\n",
    "\n",
    "while len (num_word_list) >= nivel: \n",
    "    # Aqui en vez de manipular la lista de forma externa, \n",
    "    # vamos a utilizar a nuestro favor sus características y métodos internos. \n",
    "    \n",
    "    num, word = num_word_list[nivel - 1]  # Si estamos en el nivel 1, vamos por el elemento [0]\n",
    "    linea_salida.append(word)\n",
    "    num_word_list = num_word_list[nivel:]  # mantiene los elementos desde la posición \"nivel\" hasta el final\n",
    "    nivel = nivel + 1\n",
    "print (* linea_salida)"
   ]
  },
  {
   "cell_type": "code",
   "execution_count": null,
   "id": "570cff12-0574-4c2a-8acb-95d9d16071a9",
   "metadata": {},
   "outputs": [],
   "source": []
  },
  {
   "cell_type": "markdown",
   "id": "aa93b2ba-e3ec-4ffb-995e-bbe420cdc288",
   "metadata": {},
   "source": [
    "Bien hecho !Lo hemos logrado, decodificamos el mensaje secreto que venía en codificado en el archivo original. "
   ]
  },
  {
   "cell_type": "markdown",
   "id": "7bfddf90-6467-44db-8737-be4347345998",
   "metadata": {},
   "source": [
    "Bueno, hasta aquí hasido el desarrollo de nuestro desafío. \n",
    "a continuación algunas preguntas o reflexiones que pueden servir a alguien que esté partiendo con esto y no sepa siquiera qué preguntarse al respecto. "
   ]
  },
  {
   "cell_type": "markdown",
   "id": "3d90830c-c790-4ea4-a7bd-4c5cabee8315",
   "metadata": {},
   "source": [
    "### Pd. "
   ]
  },
  {
   "cell_type": "markdown",
   "id": "903b0734-f7cd-4c37-858a-5501052191a7",
   "metadata": {},
   "source": [
    "#### Aquí agrego algunas Preguntas complementarias que podrían surgir en el desarrollo de este entrenamiento"
   ]
  },
  {
   "cell_type": "raw",
   "id": "b3386715-bb98-4b78-b11d-f34b54272fcb",
   "metadata": {},
   "source": [
    "1ro, \n",
    "\n",
    "se me ocurre pensar en los modos de abrir un documento. \n",
    "\n",
    "En este caso se abre en modo \"r\", \n",
    "entiendiendo que es modo lectura o _read_ en inglés. \n",
    "\n",
    "el keyword \"as\" que es el casting de lo anterior. \n",
    "o sea \"f\" corresponde al archivo abierto. \n",
    "y lo que se haga sobre el archivo se hace sobre \"f\""
   ]
  },
  {
   "cell_type": "raw",
   "id": "c28e6de1-65ec-4bc4-a1e5-2afe7f95cd4d",
   "metadata": {},
   "source": [
    "\"with\" keyword. \n",
    "si no es para abrir el archivo, \n",
    "pues para eso está la función \"open\",\n",
    "entonces qué?\n",
    "para generar un alias? \n"
   ]
  },
  {
   "cell_type": "markdown",
   "id": "6ad6c36f-36a8-45c9-9d42-df610812ea77",
   "metadata": {},
   "source": [
    "resulta que \"with\" es un Keyword de estructura\n",
    "\n",
    "y siempre va acopañado del keyword \"as\" para asignar un alias. \n",
    "\n",
    "mas info -> \n",
    "https://realpython.com/python-keywords/#structure-keywords-def-class-with-as-pass-lambda"
   ]
  },
  {
   "cell_type": "raw",
   "id": "839351da-1625-4e6d-b0c2-147b481a0abd",
   "metadata": {},
   "source": [
    "*) \n",
    "\n",
    "Para:\n",
    "lines = f.readlines() \n",
    "me hace pensar en los métodos que están disponibles luego de abrir un archivo. \n",
    "como se \"explora un archivo\"?\n",
    "\n",
    "de partida tenemos este ejemplo que lee las líneas. \n",
    "ahora, qué tipo de estructura es lo que devuelve? \n",
    "desde mi ignorancia y como primiera idea pienso que la estructura de salida del método readlines() es una lista de líneas.\n",
    "\n",
    "Será verdad o estaré equivocado?\n",
    "eso lo verificamos yendo a la fuente. \n",
    "(insert fuente here)\n",
    "\n"
   ]
  },
  {
   "cell_type": "markdown",
   "id": "9130ba43-aceb-4bcc-a879-e09fa3fe9ae6",
   "metadata": {},
   "source": [
    "*) metodo \"Split\"\n",
    "\n",
    "separa las palabras (en caso de ser formato texto) eliminando los espacios en blanco. \n",
    "\n",
    "num = int(num) \n",
    "entre que formato funciona, solo formato texto ? \n",
    "\n",
    "En verdad, qué otro formato podría ser transformado a integer :7"
   ]
  },
  {
   "cell_type": "raw",
   "id": "efca0b3b-e14c-4dce-8cf1-a85c5b561d9e",
   "metadata": {},
   "source": [
    "*) método \"Append\" \n",
    "\n",
    "Se inserta el elemento a la lista.. \n",
    "en este caso se ingresa una tupla. \n",
    "está bien el formato y el nombre de tupla cierto ?  \n",
    "es una lista de listas? \n",
    "esa escritura o sintaxis ( x , y ) como se lee, \n",
    "como una fila, como columna .. ? \n"
   ]
  },
  {
   "cell_type": "code",
   "execution_count": null,
   "id": "7e0baefd-4950-477e-b7d9-5c845a3b094f",
   "metadata": {},
   "outputs": [],
   "source": []
  }
 ],
 "metadata": {
  "kernelspec": {
   "display_name": "Python 3 (ipykernel)",
   "language": "python",
   "name": "python3"
  },
  "language_info": {
   "codemirror_mode": {
    "name": "ipython",
    "version": 3
   },
   "file_extension": ".py",
   "mimetype": "text/x-python",
   "name": "python",
   "nbconvert_exporter": "python",
   "pygments_lexer": "ipython3",
   "version": "3.12.1"
  }
 },
 "nbformat": 4,
 "nbformat_minor": 5
}
