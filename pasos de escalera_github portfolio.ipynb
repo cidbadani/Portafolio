{
 "cells": [
  {
   "cell_type": "code",
   "execution_count": 40,
   "id": "b0364dc0-7a89-4036-899e-49b80cd2205c",
   "metadata": {},
   "outputs": [],
   "source": [
    "# Abre el archivo de texto\n",
    "with open('mi_archivo.txt', 'r') as f:\n",
    "    # Lee todas las líneas del archivo\n",
    "    lines = f.readlines()\n"
   ]
  },
  {
   "cell_type": "raw",
   "id": "b3386715-bb98-4b78-b11d-f34b54272fcb",
   "metadata": {},
   "source": [
    "Estas primeras líneas me dan el pase a pensar en los modos de abrir un documento. \n",
    "En este caso se abre en modo \"r\", que entiendo es modo lectura o _read_\n",
    "el keyword \"as\" que es el casting de lo anterior. \n",
    "o sea \"f\" corresponde al archivo abierto. y lo que se haga sobre el archivo se hace sobre \"f\""
   ]
  },
  {
   "cell_type": "raw",
   "id": "839351da-1625-4e6d-b0c2-147b481a0abd",
   "metadata": {},
   "source": [
    "Para:\n",
    "lines = f.readlines() \n",
    "me hace pensar en los métodos que están disponibles luego de abrir un archivo. \n",
    "como se \"explora un archivo\"?\n",
    "\n",
    "de partida tenemos este ejemplo que lee las líneas. \n",
    "ahora qué tipo de estructura es lo que devuelve. \n",
    "desde mi ignorancia y como primiera idea pienso que la estructura de salida del método readlines() es una lista de líneas.\n",
    "Será verdad o estaré equivocado?\n",
    "eso lo verificamos yendo a la fuente.\n",
    "\n"
   ]
  },
  {
   "cell_type": "markdown",
   "id": "6ad40e79-c854-4f4a-9a8b-dc19a836cb60",
   "metadata": {},
   "source": [
    "Esto es \"Markdown\" , qué es markdoes, aún no lo sé"
   ]
  },
  {
   "cell_type": "markdown",
   "id": "99304add-2bd8-4826-b8dd-d601612dc24f",
   "metadata": {},
   "source": [
    "Entiendo, ahora entiendo lo que es un \"Raw\"\n",
    "y lo que es un \"MarkDown\""
   ]
  },
  {
   "cell_type": "code",
   "execution_count": 41,
   "id": "1690f020-b337-4bb6-be19-1a0dda941f42",
   "metadata": {},
   "outputs": [],
   "source": [
    "# Crea una lista vacía para almacenar los números y las palabras\n",
    "num_word_list = []"
   ]
  },
  {
   "cell_type": "code",
   "execution_count": 42,
   "id": "93e13a20-61bd-493f-bc9b-12cd50cea936",
   "metadata": {},
   "outputs": [],
   "source": [
    "# Itera sobre cada línea del archivo\n",
    "for line in lines:\n",
    "    # Separa el número y la palabra en la línea\n",
    "    num, word = line.split()\n",
    "    # Convierte el número a un entero\n",
    "    num = int(num)\n",
    "    # Agrega el número y la palabra a la lista\n",
    "    num_word_list.append((num, word))"
   ]
  },
  {
   "cell_type": "markdown",
   "id": "9130ba43-aceb-4bcc-a879-e09fa3fe9ae6",
   "metadata": {},
   "source": [
    "__ metodo \"Split\"\n",
    "que separa las palabras (en caso de ser formato texto) eliminando los espacios en blanco. \n",
    "\n",
    "num = int(num) \n",
    "entre que ormato funciona, solo formato texto ? \n",
    "En verdad, qué otro formato podría ser transformado a integer :7\n",
    "\n",
    "método \"AppEnd\" (y se inserta el elemento a la lista.. en este caso se entrega una tupla. \n",
    "etá bien el formato y el nombre de tupla cierto ?  es una lista de listas? \n",
    "esa escritura o sintaxis ( x , y ) como se lee, como una fila, como columna .. ? \n",
    "\n",
    "\n",
    "\n"
   ]
  },
  {
   "cell_type": "code",
   "execution_count": 43,
   "id": "238fc992-a942-46e4-bf39-dfb82cef0949",
   "metadata": {},
   "outputs": [],
   "source": [
    "# Ordena la lista por el número asociado\n",
    "num_word_list.sort()\n"
   ]
  },
  {
   "cell_type": "code",
   "execution_count": 17,
   "id": "a53eab4b-10af-498c-9a88-f93cbaa46106",
   "metadata": {},
   "outputs": [
    {
     "name": "stdout",
     "output_type": "stream",
     "text": [
      "I\n",
      "dogs\n",
      "love\n",
      "cats\n",
      "you\n",
      "computers\n",
      "what\n"
     ]
    }
   ],
   "source": [
    "# Imprime las palabras en orden\n",
    "for num, word in num_word_list:\n",
    "    print(word)"
   ]
  },
  {
   "cell_type": "raw",
   "id": "7afceb78-6952-4e50-9b39-7f80e04d0870",
   "metadata": {},
   "source": [
    "Aquí, \n",
    "lo que yo entiendo que pasa es que el for se llama con el elemento tupla, \n",
    "pues la tupla (num, word) es única. en cambio podría ser que num o word por separado fueran duplicados. \n",
    "Por otro lado, podrían usarse otros términos en vez de num, word.. \n",
    "con for a, b in num_...\n",
    "print (b) se obtiene el mismo resultado. \n"
   ]
  },
  {
   "cell_type": "markdown",
   "id": "7f810ccb-d5ce-4dc9-956e-7fc2d6ab1915",
   "metadata": {},
   "source": [
    "Ahora que tenemos la lista de pares ordenados\n",
    "vamos a imaginar que las palabras se distribuyen como si fuera una pirámide. \n",
    "\n",
    "a1\n",
    "b2 c3\n",
    "d4 e5 f6\n",
    "...  ... j10\n",
    "k11, etc...\n",
    "\n",
    "\n",
    "Queremos rescatar la última palabra de cada nivel siempre que el nivel esté completo. \n",
    "es decir como resultado del ejemplo anterior tendríamos ;\n",
    "\n",
    "\"a1 c3 f6 j10\"\n",
    "\n"
   ]
  },
  {
   "cell_type": "code",
   "execution_count": 44,
   "id": "c453d348-29d7-4fd3-9ccc-06fc2916ce9d",
   "metadata": {},
   "outputs": [
    {
     "name": "stdout",
     "output_type": "stream",
     "text": [
      "I love computers\n"
     ]
    }
   ],
   "source": [
    "nivel = 1\n",
    "linea_salida = []\n",
    "\n",
    "while len (num_word_list) >= nivel: \n",
    "    ## Aqui en vez de manipular la lista de forma externa, vamos a utilizar a nuestro favor sus características y métodos internos. \n",
    "    num, word = num_word_list[nivel -1]  # Si estamos en el nivel 1, vamos por el elemento [0]\n",
    "    linea_salida.append(word)\n",
    "    num_word_list = num_word_list[nivel:]  # mantiene los elementos desde la posición \"nivel\" hasta el final\n",
    "    nivel = nivel + 1\n",
    "print (* linea_salida)"
   ]
  },
  {
   "cell_type": "code",
   "execution_count": null,
   "id": "7c13a87e-c8b0-41dd-a600-07e7288b983d",
   "metadata": {},
   "outputs": [],
   "source": []
  }
 ],
 "metadata": {
  "kernelspec": {
   "display_name": "Python 3 (ipykernel)",
   "language": "python",
   "name": "python3"
  },
  "language_info": {
   "codemirror_mode": {
    "name": "ipython",
    "version": 3
   },
   "file_extension": ".py",
   "mimetype": "text/x-python",
   "name": "python",
   "nbconvert_exporter": "python",
   "pygments_lexer": "ipython3",
   "version": "3.12.1"
  }
 },
 "nbformat": 4,
 "nbformat_minor": 5
}
